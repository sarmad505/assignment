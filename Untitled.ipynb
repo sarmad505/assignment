{
 "cells": [
  {
   "cell_type": "markdown",
   "metadata": {},
   "source": [
    "# Assignmet no 1\n",
    "#Write a program which will take user's percentage as input and display corresponding Grade as output."
   ]
  },
  {
   "cell_type": "code",
   "execution_count": 2,
   "metadata": {},
   "outputs": [
    {
     "name": "stdout",
     "output_type": "stream",
     "text": [
      "ENTER YOUR PERCENTAGE = 45\n",
      "your Grade is D\n"
     ]
    }
   ],
   "source": [
    "Percentage = float(input(\"ENTER YOUR PERCENTAGE = \"))\n",
    "\n",
    "if (Percentage >=79 ):\n",
    "     print (\"Congrats , your Grade is A+\")\n",
    "elif (Percentage >= 69 ):\n",
    "    print (\"Congrats , your Grade is A\")\n",
    "elif (Percentage >= 59 ):\n",
    "    print (\"Congrats , your Grade is B\")\n",
    "elif (Percentage >= 49):\n",
    "    print (\"your Grade is C\")\n",
    "elif (Percentage >= 39 ):\n",
    "    print (\"your Grade is D\")\n",
    "elif (Percentage <= 39 ):\n",
    "    print (\"your Grade is F\")\n",
    "        \n"
   ]
  },
  {
   "cell_type": "code",
   "execution_count": null,
   "metadata": {},
   "outputs": [],
   "source": []
  }
 ],
 "metadata": {
  "kernelspec": {
   "display_name": "Python 3",
   "language": "python",
   "name": "python3"
  },
  "language_info": {
   "codemirror_mode": {
    "name": "ipython",
    "version": 3
   },
   "file_extension": ".py",
   "mimetype": "text/x-python",
   "name": "python",
   "nbconvert_exporter": "python",
   "pygments_lexer": "ipython3",
   "version": "3.8.5"
  }
 },
 "nbformat": 4,
 "nbformat_minor": 4
}
